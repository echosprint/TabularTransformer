{
 "cells": [
  {
   "cell_type": "markdown",
   "metadata": {},
   "source": [
    "<a target=\"_blank\" href=\"https://colab.research.google.com/github/echosprint/TabularTransformer/blob/main/notebooks/higgs_classification.ipynb\">\n",
    "  <img src=\"https://colab.research.google.com/assets/colab-badge.svg\" alt=\"Open In Colab\"/>\n",
    "</a>\n",
    "\n",
    "---\n",
    "\n",
    "\n",
    "**for more details about the [TabularTransformer](https://github.com/echosprint/TabularTransformer) model**,\n",
    "ckeck the online **[Documents](https://echosprint.github.io/TabularTransformer/)**\n",
    "\n",
    "---\n",
    "\n",
    "- This notebook provides a usage example of the\n",
    "  [TabularTransformer](https://github.com/echosprint/TabularTransformer)\n",
    "  package.\n",
    "- Hyperparameters are not tuned and may be suboptimal."
   ]
  },
  {
   "cell_type": "code",
   "execution_count": null,
   "metadata": {},
   "outputs": [],
   "source": [
    "%pip install tabular-transformer"
   ]
  },
  {
   "cell_type": "code",
   "execution_count": 2,
   "metadata": {},
   "outputs": [],
   "source": [
    "import torch\n",
    "import tabular_transformer as ttf"
   ]
  },
  {
   "cell_type": "code",
   "execution_count": null,
   "metadata": {},
   "outputs": [],
   "source": [
    "higgs_path = ttf.prepare_higgs_dataset()"
   ]
  },
  {
   "cell_type": "code",
   "execution_count": 4,
   "metadata": {},
   "outputs": [],
   "source": [
    "higgs_cols = [\"label\", \"lepton  pT\", \"lepton  eta\", \"lepton  phi\",\n",
    "              \"missing energy magnitude\", \"missing energy phi\",\n",
    "              \"jet 1 pt\", \"jet 1 eta\", \"jet 1 phi\", \"jet 1 b-tag\",\n",
    "              \"jet 2 pt\", \"jet 2 eta\", \"jet 2 phi\", \"jet 2 b-tag\",\n",
    "              \"jet 3 pt\", \"jet 3 eta\", \"jet 3 phi\", \"jet 3 b-tag\",\n",
    "              \"jet 4 pt\", \"jet 4 eta\", \"jet 4 phi\", \"jet 4 b-tag\",\n",
    "              \"m_jj\", \"m_jjj\", \"m_lv\", \"m_jlv\", \"m_bb\", \"m_wbb\", \"m_wwbb\"]\n",
    "\n",
    "\n",
    "ensure_categorical_cols = ['label']\n",
    "ensure_numerical_cols = [col for col in higgs_cols if col != 'label']"
   ]
  },
  {
   "cell_type": "code",
   "execution_count": 5,
   "metadata": {},
   "outputs": [],
   "source": [
    "higgs_data_reader = ttf.DataReader(\n",
    "    file_path='./data/higgs/higgs.csv.gz',\n",
    "    ensure_categorical_cols=ensure_categorical_cols,\n",
    "    ensure_numerical_cols=ensure_numerical_cols,\n",
    "    label='label',\n",
    "    header=False,\n",
    "    column_names=higgs_cols)"
   ]
  },
  {
   "cell_type": "code",
   "execution_count": null,
   "metadata": {},
   "outputs": [],
   "source": [
    "split = {'train': 10_500_000,\n",
    "         'test': 500_000}\n",
    "\n",
    "split = higgs_data_reader.split_data(\n",
    "    split=split,\n",
    "    seed=None,  # no shuffle when seed is None\n",
    "    override=False,\n",
    "    save_as='parquet')"
   ]
  },
  {
   "cell_type": "code",
   "execution_count": null,
   "metadata": {},
   "outputs": [],
   "source": [
    "higgs_data_reader = higgs_data_reader(header=True)\n",
    "\n",
    "train_data_reader = higgs_data_reader(file_path=split['train'])\n",
    "\n",
    "train_df = train_data_reader.read().to_pandas()\n",
    "print(train_df.head(3))\n",
    "\n",
    "test_data_reader = higgs_data_reader(file_path=split['test'])"
   ]
  },
  {
   "cell_type": "code",
   "execution_count": 8,
   "metadata": {},
   "outputs": [],
   "source": [
    "device = 'cuda' if torch.cuda.is_available() else 'cpu'\n",
    "dtype = 'bfloat16' if torch.cuda.is_available() \\\n",
    "    and torch.cuda.is_bf16_supported() else 'float16'"
   ]
  },
  {
   "cell_type": "code",
   "execution_count": 9,
   "metadata": {},
   "outputs": [],
   "source": [
    "ts = ttf.TrainSettings(device=device,\n",
    "                       dtype=dtype,\n",
    "                       unk_ratio_default=0,\n",
    "                       wandb_log=False)\n",
    "\n",
    "# Tips: if run out of memory, reduce the `batch_size`, and adjust the `max_iters` accordingly\n",
    "tp = ttf.TrainParameters(max_iters=50000, learning_rate=5e-4,\n",
    "                         output_dim=1, loss_type='BINCE',\n",
    "                         batch_size=1024, eval_interval=1000,\n",
    "                         eval_iters=100, warmup_iters=1000,\n",
    "                         validate_split=0.2, output_checkpoint='higgs_r1_ckpt.pt')\n",
    "\n",
    "hp = ttf.HyperParameters(dim=768, n_layers=12,\n",
    "                         n_heads=16,\n",
    "                         output_forward_dim=32,\n",
    "                         output_hidden_dim=256)"
   ]
  },
  {
   "cell_type": "code",
   "execution_count": null,
   "metadata": {},
   "outputs": [],
   "source": [
    "trainer = ttf.Trainer(hp=hp, ts=ts)\n",
    "\n",
    "trainer.train(data_reader=train_data_reader, tp=tp)"
   ]
  },
  {
   "cell_type": "code",
   "execution_count": null,
   "metadata": {},
   "outputs": [],
   "source": [
    "predictor = ttf.Predictor(checkpoint='out/higgs_r1_ckpt.pt')\n",
    "\n",
    "prediction = predictor.predict(\n",
    "    data_reader=test_data_reader,\n",
    "    save_as=\"prediction_higgs.csv\",\n",
    ")"
   ]
  },
  {
   "cell_type": "code",
   "execution_count": null,
   "metadata": {},
   "outputs": [],
   "source": [
    "prediction.head(3)"
   ]
  }
 ],
 "metadata": {
  "kernelspec": {
   "display_name": "tabular",
   "language": "python",
   "name": "python3"
  },
  "language_info": {
   "codemirror_mode": {
    "name": "ipython",
    "version": 3
   },
   "file_extension": ".py",
   "mimetype": "text/x-python",
   "name": "python",
   "nbconvert_exporter": "python",
   "pygments_lexer": "ipython3",
   "version": "3.12.3"
  }
 },
 "nbformat": 4,
 "nbformat_minor": 2
}
