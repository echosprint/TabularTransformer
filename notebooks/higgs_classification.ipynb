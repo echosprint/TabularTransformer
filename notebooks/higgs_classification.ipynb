{
 "cells": [
  {
   "cell_type": "markdown",
   "metadata": {},
   "source": [
    "<a target=\"_blank\" href=\"https://colab.research.google.com/github/echosprint/TabularTransformer/blob/main/notebooks/higgs_classification.ipynb\">\n",
    "  <img src=\"https://colab.research.google.com/assets/colab-badge.svg\" alt=\"Open In Colab\"/>\n",
    "</a>\n",
    "\n",
    "---\n",
    "\n",
    "\n",
    "**for more details about the [TabularTransformer](https://github.com/echosprint/TabularTransformer) model**,\n",
    "ckeck the online **[Documents](https://echosprint.github.io/TabularTransformer/)**\n",
    "\n",
    "---\n",
    "\n",
    "- This notebook provides a usage example of the\n",
    "  [TabularTransformer](https://github.com/echosprint/TabularTransformer)\n",
    "  package.\n",
    "- Hyperparameters are not tuned and may be suboptimal."
   ]
  },
  {
   "cell_type": "code",
   "execution_count": null,
   "metadata": {},
   "outputs": [],
   "source": [
    "%pip install git+https://github.com/echosprint/TabularTransformer.git\n",
    "%pip install pyarrow"
   ]
  },
  {
   "cell_type": "code",
   "execution_count": null,
   "metadata": {},
   "outputs": [],
   "source": [
    "from pathlib import Path\n",
    "import torch\n",
    "import pandas as pd\n",
    "import tabular_transformer as ttf\n",
    "from pathlib import Path\n",
    "import pyarrow as pa\n",
    "from pyarrow import csv, parquet, compute"
   ]
  },
  {
   "cell_type": "code",
   "execution_count": null,
   "metadata": {},
   "outputs": [],
   "source": [
    "higgs_path = ttf.prepare_higgs_dataset()"
   ]
  },
  {
   "cell_type": "code",
   "execution_count": null,
   "metadata": {},
   "outputs": [],
   "source": [
    "higgs_cols = [\"label\", \"lepton  pT\", \"lepton  eta\", \"lepton  phi\",\n",
    "              \"missing energy magnitude\", \"missing energy phi\",\n",
    "              \"jet 1 pt\", \"jet 1 eta\", \"jet 1 phi\", \"jet 1 b-tag\",\n",
    "              \"jet 2 pt\", \"jet 2 eta\", \"jet 2 phi\", \"jet 2 b-tag\",\n",
    "              \"jet 3 pt\", \"jet 3 eta\", \"jet 3 phi\", \"jet 3 b-tag\",\n",
    "              \"jet 4 pt\", \"jet 4 eta\", \"jet 4 phi\", \"jet 4 b-tag\",\n",
    "              \"m_jj\", \"m_jjj\", \"m_lv\", \"m_jlv\", \"m_bb\", \"m_wbb\", \"m_wwbb\"]"
   ]
  },
  {
   "cell_type": "code",
   "execution_count": null,
   "metadata": {},
   "outputs": [],
   "source": [
    "class HiggsDataReader(ttf.DataReader):\n",
    "\n",
    "    ensure_categorical_cols = ['label']\n",
    "    ensure_numerical_cols = [col for col in higgs_cols if col != 'label']\n",
    "\n",
    "    def read_data_file(self, file_path):\n",
    "        table = parquet.read_table(file_path)\n",
    "        print(f\"complete dataset loading: {file_path}\")\n",
    "        df = table.to_pandas()\n",
    "        return df"
   ]
  },
  {
   "cell_type": "code",
   "execution_count": null,
   "metadata": {},
   "outputs": [],
   "source": [
    "def load_and_preprocess(file_path) -> pa.Table:\n",
    "    print(f\"load dataset {file_path}, it may take a few minutes.\")\n",
    "    table = csv.read_csv(\n",
    "        file_path, read_options=csv.ReadOptions(column_names=higgs_cols))\n",
    "    print(\"load dataset complete.\")\n",
    "\n",
    "    label_column = compute.cast(table['label'], pa.int32())\n",
    "    table = table.set_column(table.column_names.index(\n",
    "        'label'), 'label', label_column)\n",
    "\n",
    "    cols = [col for col in table.column_names if col != 'label']\n",
    "    table = table.select(cols + ['label'])\n",
    "    return table"
   ]
  },
  {
   "cell_type": "code",
   "execution_count": null,
   "metadata": {},
   "outputs": [],
   "source": [
    "def split_data(file_path) -> torch.Dict[str, Path]:\n",
    "    split = {'train': 10_500_000,\n",
    "             'test': 500_000}\n",
    "\n",
    "    file_path = Path(file_path)\n",
    "\n",
    "    split_path = {'train': 'higgs_train.parquet',\n",
    "                  'test': 'higgs_test.parquet', }\n",
    "\n",
    "    split_path = {sp: file_path.with_name(fn) for sp, fn in split_path.items()}\n",
    "\n",
    "    if all(path.exists() for path in split_path.values()):\n",
    "        print(\"split already exists, skip split.\")\n",
    "        return split_path\n",
    "\n",
    "    table = load_and_preprocess(file_path)\n",
    "\n",
    "    train_table = table.slice(0, split['train'])\n",
    "    test_table = table.slice(split['train'], split['test'])\n",
    "    print(f\"save split train on disk..\")\n",
    "    parquet.write_table(train_table, split_path['train'])\n",
    "    print(f\"save split test on disk..\")\n",
    "    parquet.write_table(test_table, split_path['test'])\n",
    "    print(\"save split complete\")\n",
    "    return split_path"
   ]
  },
  {
   "cell_type": "code",
   "execution_count": null,
   "metadata": {},
   "outputs": [],
   "source": [
    "split = split_data(higgs_path)"
   ]
  },
  {
   "cell_type": "code",
   "execution_count": null,
   "metadata": {},
   "outputs": [],
   "source": [
    "device = 'cuda' if torch.cuda.is_available() else 'cpu'\n",
    "dtype = 'bfloat16' if torch.cuda.is_available() \\\n",
    "    and torch.cuda.is_bf16_supported() else 'float16'"
   ]
  },
  {
   "cell_type": "code",
   "execution_count": null,
   "metadata": {},
   "outputs": [],
   "source": [
    "ts = ttf.TrainSettings(device=device,\n",
    "                       dtype=dtype,\n",
    "                       unk_ratio_default=0,\n",
    "                       wandb_log=True)\n",
    "\n",
    "tp = ttf.TrainParameters(train_epochs=5, learning_rate=5e-4,\n",
    "                         output_dim=1, loss_type='BINCE',\n",
    "                         batch_size=1024, eval_interval=1000,\n",
    "                         eval_iters=100, warmup_iters=1000,\n",
    "                         validate_split=0.2, output_checkpoint='higgs_r2_ckpt.pt')\n",
    "\n",
    "hp = ttf.HyperParameters(dim=768, n_layers=12,\n",
    "                         n_heads=16,\n",
    "                         output_forward_dim=32,\n",
    "                         output_hidden_dim=256)"
   ]
  },
  {
   "cell_type": "code",
   "execution_count": null,
   "metadata": {},
   "outputs": [],
   "source": [
    "trainer = ttf.Trainer(hp=hp, ts=ts)\n",
    "\n",
    "trainer.train(data_reader=HiggsDataReader(split['train']), tp=tp)"
   ]
  },
  {
   "cell_type": "code",
   "execution_count": null,
   "metadata": {},
   "outputs": [],
   "source": [
    "predictor = ttf.Predictor(checkpoint='out/higgs_r2_ckpt.pt')\n",
    "\n",
    "predictor.predict(\n",
    "    data_reader=HiggsDataReader(split['test']),\n",
    "    save_as=\"prediction_higgs.csv\",\n",
    "    has_truth=True\n",
    ")"
   ]
  }
 ],
 "metadata": {
  "kernelspec": {
   "display_name": "tabular",
   "language": "python",
   "name": "python3"
  },
  "language_info": {
   "codemirror_mode": {
    "name": "ipython",
    "version": 3
   },
   "file_extension": ".py",
   "mimetype": "text/x-python",
   "name": "python",
   "nbconvert_exporter": "python",
   "pygments_lexer": "ipython3",
   "version": "3.12.3"
  }
 },
 "nbformat": 4,
 "nbformat_minor": 2
}
