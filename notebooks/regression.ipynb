{
 "cells": [
  {
   "cell_type": "markdown",
   "metadata": {},
   "source": [
    "<a target=\"_blank\" href=\"https://colab.research.google.com/github/echosprint/TabularTransformer/blob/main/notebooks/regression.ipynb\">\n",
    "  <img src=\"https://colab.research.google.com/assets/colab-badge.svg\" alt=\"Open In Colab\"/>\n",
    "</a>\n",
    "\n",
    "---\n",
    "\n",
    "\n",
    "**for more details about the [TabularTransformer](https://github.com/echosprint/TabularTransformer) model**,\n",
    "ckeck the online **[Documents](https://echosprint.github.io/TabularTransformer/)**\n",
    "\n",
    "---\n",
    "\n",
    "- This notebook provides a usage example of the\n",
    "  [TabularTransformer](https://github.com/echosprint/TabularTransformer)\n",
    "  package.\n",
    "- Hyperparameters are not tuned and may be suboptimal."
   ]
  },
  {
   "cell_type": "code",
   "execution_count": null,
   "metadata": {},
   "outputs": [],
   "source": [
    "%pip install git+https://github.com/echosprint/TabularTransformer.git"
   ]
  },
  {
   "cell_type": "code",
   "execution_count": null,
   "metadata": {},
   "outputs": [],
   "source": [
    "import tabular_transformer as ttf\n",
    "from tabular_transformer.tabular_loader import Task\n",
    "from tabular_transformer.featurestats import FeatureStats\n",
    "from tabular_transformer.tabular_dataset import TabularDataset\n",
    "import torch"
   ]
  },
  {
   "cell_type": "code",
   "execution_count": null,
   "metadata": {},
   "outputs": [],
   "source": [
    "fish_dataset_path = ttf.prepare_fish_dataset()"
   ]
  },
  {
   "cell_type": "code",
   "execution_count": null,
   "metadata": {},
   "outputs": [],
   "source": [
    "ensure_categorical_cols = ['Species']\n",
    "ensure_numerical_cols = ['Weight', 'Length1',\n",
    "                         'Length2', 'Length3',\n",
    "                         'Height', 'Width']"
   ]
  },
  {
   "cell_type": "code",
   "execution_count": null,
   "metadata": {},
   "outputs": [],
   "source": [
    "fish_data_reader = ttf.DataReader(\n",
    "    file_path='./data/fish/fish.csv',\n",
    "    ensure_categorical_cols=ensure_categorical_cols,\n",
    "    ensure_numerical_cols=ensure_numerical_cols,\n",
    "    label='Width',\n",
    "    header=True,\n",
    "    column_names=None)\n",
    "\n",
    "df = fish_data_reader.read().to_pandas()\n",
    "print(df.head(3))"
   ]
  },
  {
   "cell_type": "code",
   "execution_count": null,
   "metadata": {},
   "outputs": [],
   "source": [
    "split = fish_data_reader.split_data(\n",
    "    {'train': 0.8, 'test': -1},\n",
    "    seed=42,\n",
    "    save_as='csv')\n",
    "\n",
    "print(split)"
   ]
  },
  {
   "cell_type": "code",
   "execution_count": null,
   "metadata": {},
   "outputs": [],
   "source": [
    "device = 'cuda' if torch.cuda.is_available() else 'cpu'\n",
    "dtype = 'bfloat16' if torch.cuda.is_available() \\\n",
    "    and torch.cuda.is_bf16_supported() else 'float16'\n",
    "\n",
    "\n",
    "ts = ttf.TrainSettings(wandb_log=False,\n",
    "                       device=device,\n",
    "                       dtype=dtype,\n",
    "                       )\n",
    "\n",
    "\n",
    "hp = ttf.HyperParameters(dim=32,\n",
    "                         n_layers=4,\n",
    "                         n_heads=4,\n",
    "                         output_forward_dim=4,\n",
    "                         output_hidden_dim=64)\n",
    "\n",
    "trainer = ttf.Trainer(hp=hp, ts=ts)"
   ]
  },
  {
   "cell_type": "code",
   "execution_count": null,
   "metadata": {},
   "outputs": [],
   "source": [
    "train_tp = ttf.TrainParameters(\n",
    "    learning_rate=5e-4,\n",
    "    lr_scheduler='constant',\n",
    "    max_iters=300,\n",
    "    loss_type='MSE',\n",
    "    batch_size=16,\n",
    "    output_dim=1,\n",
    "    eval_interval=10,\n",
    "    eval_iters=2,\n",
    "    warmup_iters=5,\n",
    "    validate_split=0.23,\n",
    "    output_checkpoint='fish_ckpt.pt',\n",
    "    input_checkpoint='fish_ckpt.pt')\n",
    "\n",
    "trainer.train(\n",
    "    data_reader=fish_data_reader(file_path=split['train']),\n",
    "    tp=train_tp,\n",
    "    resume=False)"
   ]
  },
  {
   "cell_type": "code",
   "execution_count": null,
   "metadata": {},
   "outputs": [],
   "source": [
    "predictor = ttf.Predictor(checkpoint='out/fish_ckpt.pt')\n",
    "predictor.predict(data_reader=fish_data_reader(file_path=split['test']),\n",
    "                  save_as=\"fish_predictions.csv\")"
   ]
  }
 ],
 "metadata": {
  "kernelspec": {
   "display_name": "tabular",
   "language": "python",
   "name": "python3"
  },
  "language_info": {
   "codemirror_mode": {
    "name": "ipython",
    "version": 3
   },
   "file_extension": ".py",
   "mimetype": "text/x-python",
   "name": "python",
   "nbconvert_exporter": "python",
   "pygments_lexer": "ipython3",
   "version": "3.12.3"
  }
 },
 "nbformat": 4,
 "nbformat_minor": 2
}
