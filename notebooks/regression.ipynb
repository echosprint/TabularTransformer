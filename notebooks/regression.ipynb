{
 "cells": [
  {
   "cell_type": "markdown",
   "metadata": {},
   "source": [
    "<a target=\"_blank\" href=\"https://colab.research.google.com/github/echosprint/TabularTransformer/blob/main/income_analysis.ipynb\">\n",
    "  <img src=\"https://colab.research.google.com/assets/colab-badge.svg\" alt=\"Open In Colab\"/>\n",
    "</a>\n",
    "\n",
    "---\n",
    "\n",
    "\n",
    "**for more details about the [TabularTransformer](https://github.com/echosprint/TabularTransformer) model**,\n",
    "ckeck the online **[Documents](https://echosprint.github.io/TabularTransformer/)**\n",
    "\n",
    "---\n",
    "\n",
    "- This notebook provides a usage example of the\n",
    "  [TabularTransformer](https://github.com/echosprint/TabularTransformer)\n",
    "  package.\n",
    "- Hyperparameters are not tuned and may be suboptimal."
   ]
  },
  {
   "cell_type": "code",
   "execution_count": null,
   "metadata": {},
   "outputs": [],
   "source": [
    "%pip install git+https://github.com/echosprint/TabularTransformer.git"
   ]
  },
  {
   "cell_type": "code",
   "execution_count": null,
   "metadata": {},
   "outputs": [],
   "source": [
    "import tabular_transformer as ttf\n",
    "import pandas as pd\n",
    "import torch"
   ]
  },
  {
   "cell_type": "code",
   "execution_count": null,
   "metadata": {},
   "outputs": [],
   "source": [
    "fish_dataset_path = ttf.prepare_fish_dataset()"
   ]
  },
  {
   "cell_type": "code",
   "execution_count": null,
   "metadata": {},
   "outputs": [],
   "source": [
    "class FishDataReader(ttf.DataReader):\n",
    "    ensure_categorical_cols = ['Species']\n",
    "\n",
    "    ensure_numerical_cols = ['Weight', 'Length1',\n",
    "                             'Length2', 'Length3',\n",
    "                             'Height', 'Width']\n",
    "\n",
    "    def read_data_file(self, file_path):\n",
    "        df = pd.read_csv(file_path)\n",
    "        return df"
   ]
  },
  {
   "cell_type": "code",
   "execution_count": null,
   "metadata": {},
   "outputs": [],
   "source": [
    "fish_reader = FishDataReader(fish_dataset_path)\n",
    "df = fish_reader.read_data_file()\n",
    "print(df.head(3))"
   ]
  },
  {
   "cell_type": "code",
   "execution_count": null,
   "metadata": {},
   "outputs": [],
   "source": [
    "split = fish_reader.split_data(\n",
    "    {'train': 0.8, 'test': -1})\n",
    "print(split)"
   ]
  },
  {
   "cell_type": "code",
   "execution_count": null,
   "metadata": {},
   "outputs": [],
   "source": [
    "device = 'cuda' if torch.cuda.is_available() else 'cpu'\n",
    "dtype = 'bfloat16' if torch.cuda.is_available() \\\n",
    "    and torch.cuda.is_bf16_supported() else 'float16'"
   ]
  },
  {
   "cell_type": "code",
   "execution_count": null,
   "metadata": {},
   "outputs": [],
   "source": [
    "ts = ttf.TrainSettings(wandb_log=False,\n",
    "                       device=device,\n",
    "                       dtype=dtype,\n",
    "                       )\n",
    "\n",
    "\n",
    "hp = ttf.HyperParameters(dim=32,\n",
    "                         n_layers=4,\n",
    "                         n_heads=4,\n",
    "                         output_forward_dim=4,\n",
    "                         output_hidden_dim=64)\n",
    "\n",
    "trainer = ttf.Trainer(hp=hp, ts=ts)"
   ]
  },
  {
   "cell_type": "code",
   "execution_count": null,
   "metadata": {},
   "outputs": [],
   "source": [
    "train_tp = ttf.TrainParameters(\n",
    "    learning_rate=5e-4,\n",
    "    lr_scheduler='constant',\n",
    "    train_epochs=50,\n",
    "    loss_type='MSE',\n",
    "    batch_size=16,\n",
    "    output_dim=1,\n",
    "    eval_interval=10,\n",
    "    eval_iters=2,\n",
    "    warmup_iters=5,\n",
    "    validate_split=0.23,\n",
    "    output_checkpoint='fish_ckpt.pt')\n",
    "\n",
    "trainer.train(\n",
    "    data_reader=FishDataReader(split['train']),\n",
    "    tp=train_tp,\n",
    "    resume=False)"
   ]
  },
  {
   "cell_type": "code",
   "execution_count": null,
   "metadata": {},
   "outputs": [],
   "source": [
    "predictor = ttf.Predictor(checkpoint='out/fish_ckpt.pt')\n",
    "predictor.predict(data_reader=FishDataReader(split['test']),\n",
    "                  save_as=\"fish_predictions.csv\")"
   ]
  }
 ],
 "metadata": {
  "kernelspec": {
   "display_name": "tabular",
   "language": "python",
   "name": "python3"
  },
  "language_info": {
   "codemirror_mode": {
    "name": "ipython",
    "version": 3
   },
   "file_extension": ".py",
   "mimetype": "text/x-python",
   "name": "python",
   "nbconvert_exporter": "python",
   "pygments_lexer": "ipython3",
   "version": "3.12.3"
  }
 },
 "nbformat": 4,
 "nbformat_minor": 2
}
