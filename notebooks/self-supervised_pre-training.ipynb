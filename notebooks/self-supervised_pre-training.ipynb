{
 "cells": [
  {
   "cell_type": "markdown",
   "metadata": {},
   "source": [
    "<a target=\"_blank\" href=\"https://colab.research.google.com/github/echosprint/TabularTransformer/blob/main/notebooks/self-supervised_pre-training.ipynb\">\n",
    "  <img src=\"https://colab.research.google.com/assets/colab-badge.svg\" alt=\"Open In Colab\"/>\n",
    "</a>\n",
    "\n",
    "---\n",
    "\n",
    "\n",
    "**for more details about the [TabularTransformer](https://github.com/echosprint/TabularTransformer) model**,\n",
    "ckeck the online **[Documents](https://echosprint.github.io/TabularTransformer/)**\n",
    "\n",
    "---\n",
    "\n",
    "- This notebook provides a usage example of the\n",
    "  [TabularTransformer](https://github.com/echosprint/TabularTransformer)\n",
    "  package.\n",
    "- Hyperparameters are not tuned and may be suboptimal."
   ]
  },
  {
   "cell_type": "code",
   "execution_count": null,
   "metadata": {},
   "outputs": [],
   "source": [
    "%pip install git+https://github.com/echosprint/TabularTransformer.git"
   ]
  },
  {
   "cell_type": "code",
   "execution_count": null,
   "metadata": {},
   "outputs": [],
   "source": [
    "import tabular_transformer as ttf\n",
    "import pandas as pd\n",
    "import torch"
   ]
  },
  {
   "cell_type": "code",
   "execution_count": null,
   "metadata": {},
   "outputs": [],
   "source": [
    "income_dataset_path = ttf.prepare_income_dataset()"
   ]
  },
  {
   "cell_type": "code",
   "execution_count": null,
   "metadata": {},
   "outputs": [],
   "source": [
    "class IncomeDataReader(ttf.DataReader):\n",
    "    ensure_categorical_cols = [\n",
    "        'workclass', 'education',\n",
    "        'marital.status', 'occupation',\n",
    "        'relationship', 'race', 'sex',\n",
    "        'native.country', 'income']\n",
    "\n",
    "    ensure_numerical_cols = [\n",
    "        'age', 'fnlwgt', 'education.num',\n",
    "        'capital.gain', 'capital.loss',\n",
    "        'hours.per.week']\n",
    "\n",
    "    def read_data_file(self, file_path):\n",
    "        df = pd.read_csv(file_path)\n",
    "        return df"
   ]
  },
  {
   "cell_type": "code",
   "execution_count": null,
   "metadata": {},
   "outputs": [],
   "source": [
    "class PretrainIncomeDataReader(IncomeDataReader):\n",
    "    ensure_categorical_cols = [\n",
    "        'pretext_target'\n",
    "        if x == 'income' else x\n",
    "        for x in IncomeDataReader.ensure_categorical_cols]\n",
    "\n",
    "    def read_data_file(self, file_path):\n",
    "        df = pd.read_csv(file_path)\n",
    "        df.drop(columns=['income'], inplace=True)\n",
    "        df['pretext_target'] = df['occupation']\n",
    "        return df"
   ]
  },
  {
   "cell_type": "code",
   "execution_count": null,
   "metadata": {},
   "outputs": [],
   "source": [
    "income_reader = IncomeDataReader(income_dataset_path)\n",
    "df = income_reader.read_data_file()\n",
    "df.head(3)"
   ]
  },
  {
   "cell_type": "code",
   "execution_count": null,
   "metadata": {},
   "outputs": [],
   "source": [
    "split = income_reader.split_data(\n",
    "    {'pretrain': 0.8, 'finetune': 64, 'ssl_test': -1})\n",
    "print(split)"
   ]
  },
  {
   "cell_type": "code",
   "execution_count": null,
   "metadata": {},
   "outputs": [],
   "source": [
    "pretrain_reader = PretrainIncomeDataReader(split['pretrain'])\n",
    "pdf = pretrain_reader.read_data_file()\n",
    "pdf.head(3)"
   ]
  },
  {
   "cell_type": "code",
   "execution_count": null,
   "metadata": {},
   "outputs": [],
   "source": [
    "device = 'cuda' if torch.cuda.is_available() else 'cpu'\n",
    "dtype = 'bfloat16' if torch.cuda.is_available() \\\n",
    "    and torch.cuda.is_bf16_supported() else 'float16'"
   ]
  },
  {
   "cell_type": "code",
   "execution_count": null,
   "metadata": {},
   "outputs": [],
   "source": [
    "ts = ttf.TrainSettings(wandb_log=False,\n",
    "                       device=device,\n",
    "                       dtype=dtype,\n",
    "                       )\n",
    "\n",
    "\n",
    "hp = ttf.HyperParameters(dim=64,\n",
    "                         n_layers=6)\n",
    "\n",
    "trainer = ttf.Trainer(hp=hp, ts=ts)"
   ]
  },
  {
   "cell_type": "code",
   "execution_count": null,
   "metadata": {},
   "outputs": [],
   "source": [
    "pretrain_tp = ttf.TrainParameters(\n",
    "    train_epochs=30,\n",
    "    loss_type='SUPCON',\n",
    "    batch_size=128,\n",
    "    output_dim=16,\n",
    "    unk_ratio={'occupation': 0.50},\n",
    "    eval_interval=100,\n",
    "    eval_iters=20,\n",
    "    warmup_iters=500,\n",
    "    validate_split=0.2,\n",
    "    output_checkpoint='pretrain_ckpt.pt')\n",
    "\n",
    "trainer.train(\n",
    "    data_reader=pretrain_reader,\n",
    "    tp=pretrain_tp,\n",
    "    resume=False)"
   ]
  },
  {
   "cell_type": "code",
   "execution_count": null,
   "metadata": {},
   "outputs": [],
   "source": [
    "finetune_tp = ttf.TrainParameters(\n",
    "    transformer_lr=5e-6,\n",
    "    output_head_lr=5e-5,\n",
    "    lr_scheduler='constant',\n",
    "    train_epochs=250,\n",
    "    loss_type='BINCE',\n",
    "    batch_size=64,\n",
    "    output_dim=1,\n",
    "    eval_interval=249,\n",
    "    always_save_checkpoint=True,\n",
    "    eval_iters=1,\n",
    "    warmup_iters=10,\n",
    "    validate_split=0.0,\n",
    "    input_checkpoint='pretrain_ckpt.pt',\n",
    "    output_checkpoint='finetune_ckpt.pt',\n",
    ")\n",
    "\n",
    "trainer.train(\n",
    "    data_reader=IncomeDataReader(split['finetune']),\n",
    "    tp=finetune_tp,\n",
    "    resume=True,\n",
    "    replace_output_head=True)"
   ]
  },
  {
   "cell_type": "code",
   "execution_count": null,
   "metadata": {},
   "outputs": [],
   "source": [
    "predictor = ttf.Predictor(checkpoint='out/finetune_ckpt.pt')\n",
    "predictor.predict(data_reader=IncomeDataReader(split['ssl_test']),\n",
    "                  save_as=\"prediction_output.csv\")"
   ]
  }
 ],
 "metadata": {
  "kernelspec": {
   "display_name": "tabular",
   "language": "python",
   "name": "python3"
  },
  "language_info": {
   "codemirror_mode": {
    "name": "ipython",
    "version": 3
   },
   "file_extension": ".py",
   "mimetype": "text/x-python",
   "name": "python",
   "nbconvert_exporter": "python",
   "pygments_lexer": "ipython3",
   "version": "3.12.3"
  }
 },
 "nbformat": 4,
 "nbformat_minor": 2
}
