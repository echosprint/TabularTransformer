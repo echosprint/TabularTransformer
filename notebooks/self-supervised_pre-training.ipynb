{
 "cells": [
  {
   "cell_type": "markdown",
   "metadata": {},
   "source": [
    "<a target=\"_blank\" href=\"https://colab.research.google.com/github/echosprint/TabularTransformer/blob/main/notebooks/self-supervised_pre-training.ipynb\">\n",
    "  <img src=\"https://colab.research.google.com/assets/colab-badge.svg\" alt=\"Open In Colab\"/>\n",
    "</a>\n",
    "\n",
    "---\n",
    "\n",
    "\n",
    "**for more details about the [TabularTransformer](https://github.com/echosprint/TabularTransformer) model**,\n",
    "ckeck the online **[Documents](https://echosprint.github.io/TabularTransformer/)**\n",
    "\n",
    "---\n",
    "\n",
    "- This notebook provides a usage example of the\n",
    "  [TabularTransformer](https://github.com/echosprint/TabularTransformer)\n",
    "  package.\n",
    "- Hyperparameters are not tuned and may be suboptimal."
   ]
  },
  {
   "cell_type": "code",
   "execution_count": null,
   "metadata": {},
   "outputs": [],
   "source": [
    "%pip install tabular-transformer"
   ]
  },
  {
   "cell_type": "code",
   "execution_count": 1,
   "metadata": {},
   "outputs": [],
   "source": [
    "import tabular_transformer as ttf\n",
    "import pandas as pd\n",
    "import torch"
   ]
  },
  {
   "cell_type": "code",
   "execution_count": null,
   "metadata": {},
   "outputs": [],
   "source": [
    "income_dataset_path = ttf.prepare_income_dataset()"
   ]
  },
  {
   "cell_type": "markdown",
   "metadata": {},
   "source": [
    "specify the categorical cols and numerical cols"
   ]
  },
  {
   "cell_type": "code",
   "execution_count": 3,
   "metadata": {},
   "outputs": [],
   "source": [
    "categorical_cols = [\n",
    "    'workclass', 'education',\n",
    "    'marital.status', 'occupation',\n",
    "    'relationship', 'race', 'sex',\n",
    "    'native.country', 'income']\n",
    "\n",
    "numerical_cols = [\n",
    "    'age', 'fnlwgt', 'education.num',\n",
    "    'capital.gain', 'capital.loss',\n",
    "    'hours.per.week']"
   ]
  },
  {
   "cell_type": "markdown",
   "metadata": {},
   "source": [
    "define the income dataset reader"
   ]
  },
  {
   "cell_type": "code",
   "execution_count": 4,
   "metadata": {},
   "outputs": [],
   "source": [
    "income_reader = ttf.DataReader(\n",
    "    file_path=income_dataset_path,\n",
    "    ensure_categorical_cols=categorical_cols,\n",
    "    ensure_numerical_cols=numerical_cols,\n",
    "    label='income',\n",
    "    header=True,\n",
    "    id=None,\n",
    ")"
   ]
  },
  {
   "cell_type": "markdown",
   "metadata": {},
   "source": [
    "split dataset for `pretrain`, `finetune`, `ssl_test`"
   ]
  },
  {
   "cell_type": "code",
   "execution_count": null,
   "metadata": {},
   "outputs": [],
   "source": [
    "split = income_reader.split_data(\n",
    "    {'pretrain': 0.8, 'finetune': 64, 'ssl_test': -1})\n",
    "print(split)"
   ]
  },
  {
   "cell_type": "markdown",
   "metadata": {},
   "source": [
    "drop the `income`, then copy the `occupation` column to `pretext_target` for `pretrain` split"
   ]
  },
  {
   "cell_type": "code",
   "execution_count": 6,
   "metadata": {},
   "outputs": [],
   "source": [
    "def replace_target(file_path):\n",
    "    df = pd.read_csv(file_path)\n",
    "    df.drop(columns=['income'], inplace=True)\n",
    "    df['pretext_target'] = df['occupation']\n",
    "    df.to_csv(file_path, index=False)"
   ]
  },
  {
   "cell_type": "code",
   "execution_count": 7,
   "metadata": {},
   "outputs": [],
   "source": [
    "replace_target(split['pretrain'])"
   ]
  },
  {
   "cell_type": "markdown",
   "metadata": {},
   "source": [
    "pretrain column"
   ]
  },
  {
   "cell_type": "code",
   "execution_count": 8,
   "metadata": {},
   "outputs": [],
   "source": [
    "pretrain_categorical_cols = [\n",
    "    'pretext_target'\n",
    "    if x == 'income' else x\n",
    "    for x in categorical_cols\n",
    "]"
   ]
  },
  {
   "cell_type": "markdown",
   "metadata": {},
   "source": [
    "define the pretrain data reader"
   ]
  },
  {
   "cell_type": "code",
   "execution_count": null,
   "metadata": {},
   "outputs": [],
   "source": [
    "pretrain_reader = ttf.DataReader(\n",
    "    file_path=split['pretrain'],\n",
    "    ensure_categorical_cols=pretrain_categorical_cols,\n",
    "    ensure_numerical_cols=numerical_cols,\n",
    "    header=True,\n",
    "    label='pretext_target',\n",
    ")\n",
    "pdf = pretrain_reader.read().to_pandas()\n",
    "pdf.head(3)"
   ]
  },
  {
   "cell_type": "markdown",
   "metadata": {},
   "source": [
    "choose the `device` and `dtype`"
   ]
  },
  {
   "cell_type": "code",
   "execution_count": 10,
   "metadata": {},
   "outputs": [],
   "source": [
    "device = 'cuda' if torch.cuda.is_available() else 'cpu'\n",
    "dtype = 'bfloat16' if torch.cuda.is_available() \\\n",
    "    and torch.cuda.is_bf16_supported() else 'float16'"
   ]
  },
  {
   "cell_type": "markdown",
   "metadata": {},
   "source": [
    "train settings and hyperparameters"
   ]
  },
  {
   "cell_type": "code",
   "execution_count": 11,
   "metadata": {},
   "outputs": [],
   "source": [
    "ts = ttf.TrainSettings(wandb_log=False,\n",
    "                       device=device,\n",
    "                       dtype=dtype,\n",
    "                       )\n",
    "\n",
    "\n",
    "hp = ttf.HyperParameters(dim=64,\n",
    "                         n_layers=6)\n",
    "\n",
    "trainer = ttf.Trainer(hp=hp, ts=ts)"
   ]
  },
  {
   "cell_type": "markdown",
   "metadata": {},
   "source": [
    "pretraining"
   ]
  },
  {
   "cell_type": "code",
   "execution_count": null,
   "metadata": {},
   "outputs": [],
   "source": [
    "pretrain_tp = ttf.TrainParameters(\n",
    "    max_iters=3000,\n",
    "    loss_type='SUPCON',\n",
    "    batch_size=128,\n",
    "    output_dim=16,\n",
    "    unk_ratio={'occupation': 0.50},\n",
    "    eval_interval=100,\n",
    "    eval_iters=20,\n",
    "    warmup_iters=500,\n",
    "    validate_split=0.2,\n",
    "    output_checkpoint='income_pretrain_ckpt.pt')\n",
    "\n",
    "trainer.train(\n",
    "    data_reader=pretrain_reader,\n",
    "    tp=pretrain_tp,\n",
    "    resume=False)"
   ]
  },
  {
   "cell_type": "markdown",
   "metadata": {},
   "source": [
    "finetne"
   ]
  },
  {
   "cell_type": "code",
   "execution_count": null,
   "metadata": {},
   "outputs": [],
   "source": [
    "finetune_tp = ttf.TrainParameters(\n",
    "    transformer_lr=5e-6,\n",
    "    output_head_lr=5e-5,\n",
    "    lr_scheduler='constant',\n",
    "    max_iters=250,\n",
    "    loss_type='BINCE',\n",
    "    batch_size=64,\n",
    "    output_dim=1,\n",
    "    eval_interval=249,\n",
    "    always_save_checkpoint=True,\n",
    "    eval_iters=1,\n",
    "    warmup_iters=10,\n",
    "    validate_split=0.0,\n",
    "    input_checkpoint='income_pretrain_ckpt.pt',\n",
    "    output_checkpoint='income_finetune_ckpt.pt',\n",
    ")\n",
    "\n",
    "trainer.train(\n",
    "    data_reader=income_reader(file_path=split['finetune']),\n",
    "    tp=finetune_tp,\n",
    "    resume=True,\n",
    "    replace_output_head=True)"
   ]
  },
  {
   "cell_type": "markdown",
   "metadata": {},
   "source": [
    "prediction on test split with finetuned model"
   ]
  },
  {
   "cell_type": "code",
   "execution_count": null,
   "metadata": {},
   "outputs": [],
   "source": [
    "predictor = ttf.Predictor(checkpoint='out/income_finetune_ckpt.pt')\n",
    "prediction = predictor.predict(data_reader=income_reader(file_path=split['ssl_test']),\n",
    "                  save_as=\"prediction_output.csv\")\n",
    "prediction.head(3)"
   ]
  },
  {
   "cell_type": "markdown",
   "metadata": {},
   "source": [
    "train scratch with the finetune dataset"
   ]
  },
  {
   "cell_type": "code",
   "execution_count": null,
   "metadata": {},
   "outputs": [],
   "source": [
    "train_scratch_tp = ttf.TrainParameters(\n",
    "    learning_rate=5e-4,\n",
    "    lr_scheduler='cosine',\n",
    "    max_iters=50,\n",
    "    loss_type='BINCE',\n",
    "    batch_size=64,\n",
    "    output_dim=1,\n",
    "    always_save_checkpoint=True,\n",
    "    eval_iters=1,\n",
    "    warmup_iters=10,\n",
    "    validate_split=0.0,\n",
    "    output_checkpoint='income_scratch_ckpt.pt',\n",
    ")\n",
    "\n",
    "trainer.train(\n",
    "    data_reader=income_reader(file_path=split['finetune']),\n",
    "    tp=train_scratch_tp,\n",
    "    resume=False,\n",
    ")"
   ]
  },
  {
   "cell_type": "markdown",
   "metadata": {},
   "source": [
    "check the result of scratch training"
   ]
  },
  {
   "cell_type": "code",
   "execution_count": null,
   "metadata": {},
   "outputs": [],
   "source": [
    "predictor = ttf.Predictor(checkpoint='out/income_scratch_ckpt.pt')\n",
    "prediction = predictor.predict(data_reader=income_reader(file_path=split['ssl_test']),\n",
    "                  save_as=\"prediction_scratch_output.csv\")\n",
    "prediction.head(3)"
   ]
  }
 ],
 "metadata": {
  "kernelspec": {
   "display_name": "tabular",
   "language": "python",
   "name": "python3"
  },
  "language_info": {
   "codemirror_mode": {
    "name": "ipython",
    "version": 3
   },
   "file_extension": ".py",
   "mimetype": "text/x-python",
   "name": "python",
   "nbconvert_exporter": "python",
   "pygments_lexer": "ipython3",
   "version": "3.12.3"
  }
 },
 "nbformat": 4,
 "nbformat_minor": 2
}
