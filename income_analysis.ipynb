{
 "cells": [
  {
   "cell_type": "markdown",
   "metadata": {},
   "source": [
    "<a target=\"_blank\" href=\"https://colab.research.google.com/github/huoyushequ/TabularTransformer/blob/main/income_analysis.ipynb\">\n",
    "  <img src=\"https://colab.research.google.com/assets/colab-badge.svg\" alt=\"Open In Colab\"/>\n",
    "</a>\n",
    "\n",
    "---\n",
    "\n",
    "**See also** [RTDL](https://github.com/yandex-research/rtdl)\n",
    "-- **other projects on tabular deep learning**.\n",
    "\n",
    "---\n",
    "\n",
    "- This notebook provides a usage example of the\n",
    "  [rtdl_revisiting_models](https://github.com/yandex-research/rtdl-revisiting-models)\n",
    "  package.\n",
    "- Hyperparameters are not tuned and may be suboptimal."
   ]
  },
  {
   "cell_type": "code",
   "execution_count": null,
   "metadata": {},
   "outputs": [],
   "source": [
    "%pip install git+https://github.com/huoyushequ/TabularTransformer.git"
   ]
  },
  {
   "cell_type": "code",
   "execution_count": null,
   "metadata": {},
   "outputs": [],
   "source": [
    "import pandas as pd\n",
    "import os\n",
    "\n",
    "import warnings\n",
    "warnings.filterwarnings('ignore', category=UserWarning)\n",
    "\n",
    "data_url = \"hf://datasets/scikit-learn/adult-census-income/adult.csv\"\n",
    "fname = \"income.csv\"\n",
    "\n",
    "data_cache_dir = os.path.join(os.getcwd(), 'data', fname.split('.')[0])\n",
    "os.makedirs(data_cache_dir, exist_ok=True)\n",
    "full_path = os.path.join(data_cache_dir, fname)\n",
    "\n",
    "if not os.path.exists(full_path):\n",
    "    print(f\"Downloading {data_url} to {fname}...\")\n",
    "    df = pd.read_csv(data_url)\n",
    "    df.to_csv(full_path,index=False)\n",
    "else:\n",
    "    df = pd.read_csv(full_path)\n",
    "    print(f\"{full_path} already exists, skipping download.\")"
   ]
  },
  {
   "cell_type": "code",
   "execution_count": null,
   "metadata": {},
   "outputs": [],
   "source": [
    "df.head(3)"
   ]
  },
  {
   "cell_type": "code",
   "execution_count": null,
   "metadata": {},
   "outputs": [],
   "source": [
    "from tabular_transformer import DataReader\n",
    "\n",
    "class IncomeDataReader(DataReader):\n",
    "  ensure_categorical_cols = []\n",
    "  ensure_numerical_cols = []\n",
    "\n",
    "  def read_data_file(self, file_path):\n",
    "    df = pd.read_csv(file_path)\n",
    "    return df\n"
   ]
  },
  {
   "cell_type": "code",
   "execution_count": null,
   "metadata": {},
   "outputs": [],
   "source": [
    "income_reader = IncomeDataReader()\n",
    "print(income_reader.ensure_categorical_cols, income_reader.ensure_numerical_cols)"
   ]
  },
  {
   "cell_type": "code",
   "execution_count": null,
   "metadata": {},
   "outputs": [],
   "source": [
    "df = income_reader.read_data_file(full_path)\n",
    "df.head(3)"
   ]
  }
 ],
 "metadata": {
  "kernelspec": {
   "display_name": "tabular",
   "language": "python",
   "name": "python3"
  },
  "language_info": {
   "codemirror_mode": {
    "name": "ipython",
    "version": 3
   },
   "file_extension": ".py",
   "mimetype": "text/x-python",
   "name": "python",
   "nbconvert_exporter": "python",
   "pygments_lexer": "ipython3",
   "version": "3.12.3"
  }
 },
 "nbformat": 4,
 "nbformat_minor": 2
}
