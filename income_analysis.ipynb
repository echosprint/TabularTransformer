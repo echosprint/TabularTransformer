{
 "cells": [
  {
   "cell_type": "markdown",
   "metadata": {},
   "source": [
    "<a target=\"_blank\" href=\"https://colab.research.google.com/github/echosprint/TabularTransformer/blob/main/income_analysis.ipynb\">\n",
    "  <img src=\"https://colab.research.google.com/assets/colab-badge.svg\" alt=\"Open In Colab\"/>\n",
    "</a>\n",
    "\n",
    "---\n",
    "\n",
    "**See also** [RTDL](https://github.com/yandex-research/rtdl)\n",
    "-- **other projects on tabular deep learning**.\n",
    "\n",
    "---\n",
    "\n",
    "- This notebook provides a usage example of the\n",
    "  [TabularTransformer](https://github.com/echosprint/TabularTransformer)\n",
    "  package.\n",
    "- Hyperparameters are not tuned and may be suboptimal."
   ]
  },
  {
   "cell_type": "code",
   "execution_count": null,
   "metadata": {},
   "outputs": [],
   "source": [
    "%pip install git+https://github.com/echosprint/TabularTransformer.git"
   ]
  },
  {
   "cell_type": "code",
   "execution_count": null,
   "metadata": {},
   "outputs": [],
   "source": [
    "import tabular_transformer as ttf\n",
    "import pandas as pd\n",
    "import torch"
   ]
  },
  {
   "cell_type": "code",
   "execution_count": null,
   "metadata": {},
   "outputs": [],
   "source": [
    "income_dataset_path = ttf.prepare_income_dataset()"
   ]
  },
  {
   "cell_type": "code",
   "execution_count": null,
   "metadata": {},
   "outputs": [],
   "source": [
    "\n",
    "class IncomeDataReader(ttf.DataReader):\n",
    "    ensure_categorical_cols = ['workclass', 'education', 'marital.status', 'occupation', 'relationship', 'race', 'sex', 'native.country', 'income']\n",
    "    ensure_numerical_cols = ['age', 'fnlwgt', 'education.num', 'capital.gain', 'capital.loss', 'hours.per.week']\n",
    "\n",
    "    def read_data_file(self, file_path):\n",
    "        df = pd.read_csv(file_path)\n",
    "        return df"
   ]
  },
  {
   "cell_type": "code",
   "execution_count": null,
   "metadata": {},
   "outputs": [],
   "source": [
    "income_reader = IncomeDataReader(income_dataset_path)\n",
    "df = income_reader.read_data_file()\n",
    "df.head(3)"
   ]
  },
  {
   "cell_type": "code",
   "execution_count": null,
   "metadata": {},
   "outputs": [],
   "source": [
    "split = income_reader.split_data({'test': 0.2, 'train': -1})\n",
    "print(split)"
   ]
  },
  {
   "cell_type": "code",
   "execution_count": null,
   "metadata": {},
   "outputs": [],
   "source": [
    "# examples: 'cpu', 'cuda', 'cuda:0', 'cuda:1', etc.\n",
    "device = 'cuda' if torch.cuda.is_available() else 'cpu'\n",
    "dtype = 'bfloat16' if torch.cuda.is_available() \\\n",
    "            and torch.cuda.is_bf16_supported() else 'float16'  # 'float32' or 'bfloat16' or 'float16'\n",
    "\n",
    "ts = ttf.TrainSettings(wandb_log=False, \n",
    "                       device=device, \n",
    "                       dtype=dtype, \n",
    "                       eval_iters=20)\n",
    "\n",
    "tp = ttf.TrainParameters(train_epochs=15,\n",
    "                         batch_size=128,\n",
    "                         eval_interval=100,\n",
    "                         warmup_iters=100,\n",
    "                         validate_split=0.2)\n",
    "\n",
    "hp = ttf.HyperParameters(dim=64,\n",
    "                         n_layers=6)\n",
    "\n",
    "trainer = ttf.Trainer(hp=hp, ts=ts)\n",
    "trainer.train(data_reader=IncomeDataReader(split['train']), tp=tp, resume=False)\n"
   ]
  },
  {
   "cell_type": "code",
   "execution_count": null,
   "metadata": {},
   "outputs": [],
   "source": [
    "predictor = ttf.Predictor(checkpoint='out/ckpt.pt')\n",
    "predictor.predict(data_reader=IncomeDataReader(split['test']),\n",
    "                  save_as=\"prediction_output.csv\")"
   ]
  }
 ],
 "metadata": {
  "kernelspec": {
   "display_name": "tabular",
   "language": "python",
   "name": "python3"
  },
  "language_info": {
   "codemirror_mode": {
    "name": "ipython",
    "version": 3
   },
   "file_extension": ".py",
   "mimetype": "text/x-python",
   "name": "python",
   "nbconvert_exporter": "python",
   "pygments_lexer": "ipython3",
   "version": "3.12.3"
  }
 },
 "nbformat": 4,
 "nbformat_minor": 2
}
